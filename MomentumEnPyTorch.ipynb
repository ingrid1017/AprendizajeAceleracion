{
  "nbformat": 4,
  "nbformat_minor": 0,
  "metadata": {
    "colab": {
      "provenance": [],
      "gpuType": "V28",
      "authorship_tag": "ABX9TyM2+rAGPBphpL9Kpcgg5xgM",
      "include_colab_link": true
    },
    "kernelspec": {
      "name": "python3",
      "display_name": "Python 3"
    },
    "language_info": {
      "name": "python"
    },
    "accelerator": "TPU"
  },
  "cells": [
    {
      "cell_type": "markdown",
      "metadata": {
        "id": "view-in-github",
        "colab_type": "text"
      },
      "source": [
        "<a href=\"https://colab.research.google.com/github/ingrid1017/AprendizajeAceleracion/blob/main/MomentumEnPyTorch.ipynb\" target=\"_parent\"><img src=\"https://colab.research.google.com/assets/colab-badge.svg\" alt=\"Open In Colab\"/></a>"
      ]
    },
    {
      "cell_type": "code",
      "execution_count": null,
      "metadata": {
        "id": "mhm2Ux1Jm5np"
      },
      "outputs": [],
      "source": [
        "import torch\n",
        "import torch.nn as nn\n",
        "import torch.optim as optim\n",
        "\n",
        "#Definir el modelo\n",
        "class SimpleNN(nn.Module):\n",
        "    def __init__(self):\n",
        "        super(SimpleNN, self).__init__()\n",
        "        self.fc =nn.Linear(784,10) #imagenes de 28x28 y 10 salidas\n",
        "\n",
        "    def forward(self,x):\n",
        "        return torch.softmax(self.fc(x),dim=1)"
      ]
    },
    {
      "cell_type": "code",
      "source": [
        "#Inicializar el modelo,criterio y optimizador\n",
        "model = SimpleNN()\n",
        "criterion = nn.CrossEntropyLoss() #perdida por entropiacruzada\n",
        "optimizer = optim.SGD(model.parameters(),lr=0.01, momentum=0.9) #SGD: radiante estocastico"
      ],
      "metadata": {
        "id": "DDAp4amOq1sX"
      },
      "execution_count": null,
      "outputs": []
    },
    {
      "cell_type": "code",
      "source": [
        "#Crear datos de entrenamiento aleatorios\n",
        "X_train = torch.randn(100,784) #100 imagenes de 28x28\n",
        "y_train = torch.randint(0,10,(100,)) #100 etiquetas ale\n",
        "\n",
        "#Entrenar el modelo\n",
        "for epoch in range(10):\n",
        "    optimizer.zero_grad()\n",
        "    output = model(X_train)\n",
        "    loss = criterion(output,y_train)\n",
        "    loss.backward()\n",
        "    optimizer.step()\n",
        "\n",
        "    print(f'Epoch [{epoch+1}/10], Loss: {loss.item():.4f}')#4 decimales"
      ],
      "metadata": {
        "colab": {
          "base_uri": "https://localhost:8080/"
        },
        "id": "EJmt6v72rxOJ",
        "outputId": "8aa68992-50a1-4101-b172-e2d4b9643edc"
      },
      "execution_count": null,
      "outputs": [
        {
          "output_type": "stream",
          "name": "stdout",
          "text": [
            "Epoch [1/10], Loss: 2.3099\n",
            "Epoch [2/10], Loss: 2.3091\n",
            "Epoch [3/10], Loss: 2.3076\n",
            "Epoch [4/10], Loss: 2.3054\n",
            "Epoch [5/10], Loss: 2.3026\n",
            "Epoch [6/10], Loss: 2.2991\n",
            "Epoch [7/10], Loss: 2.2949\n",
            "Epoch [8/10], Loss: 2.2900\n",
            "Epoch [9/10], Loss: 2.2843\n",
            "Epoch [10/10], Loss: 2.2778\n"
          ]
        }
      ]
    },
    {
      "cell_type": "code",
      "source": [],
      "metadata": {
        "id": "zWy3Uc-vzHu2"
      },
      "execution_count": null,
      "outputs": []
    }
  ]
}