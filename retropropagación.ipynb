{
  "nbformat": 4,
  "nbformat_minor": 0,
  "metadata": {
    "colab": {
      "provenance": [],
      "gpuType": "V28",
      "authorship_tag": "ABX9TyM4QSW7HWtXCora1/cH20yw",
      "include_colab_link": true
    },
    "kernelspec": {
      "name": "python3",
      "display_name": "Python 3"
    },
    "language_info": {
      "name": "python"
    },
    "accelerator": "TPU"
  },
  "cells": [
    {
      "cell_type": "markdown",
      "metadata": {
        "id": "view-in-github",
        "colab_type": "text"
      },
      "source": [
        "<a href=\"https://colab.research.google.com/github/ingrid1017/AprendizajeAceleracion/blob/main/retropropagaci%C3%B3n.ipynb\" target=\"_parent\"><img src=\"https://colab.research.google.com/assets/colab-badge.svg\" alt=\"Open In Colab\"/></a>"
      ]
    },
    {
      "cell_type": "code",
      "execution_count": null,
      "metadata": {
        "colab": {
          "base_uri": "https://localhost:8080/"
        },
        "id": "Q61d69sEedc4",
        "outputId": "9bd32f75-0f56-4ecf-e2ed-002e06292f36"
      },
      "outputs": [
        {
          "output_type": "stream",
          "name": "stdout",
          "text": [
            "Downloading data from https://storage.googleapis.com/tensorflow/tf-keras-datasets/mnist.npz\n",
            "11490434/11490434 [==============================] - 0s 0us/step\n"
          ]
        }
      ],
      "source": [
        "import tensorflow as tf\n",
        "from tensorflow.keras import layers,models\n",
        "\n",
        "#Cargar y procesar el conjunto de datos MNIST\n",
        "(X_train,y_train),(X_test,y_test) = tf.keras.datasets.mnist.load_data()\n",
        "X_train,X_test = X_train/255.0, X_test/255.0\n",
        "\n",
        "#Crear modelo, 3 capas\n",
        "model = models.Sequential([\n",
        "    layers.Flatten(input_shape = (28,28)), #neuronas\n",
        "    layers.Dense(128, activation='relu'), #neuronas\n",
        "    layers.Dense(10, activation = 'softmax') #neurona\n",
        "    ])"
      ]
    },
    {
      "cell_type": "code",
      "source": [
        "#Compilar el modelo\n",
        "model.compile(optimizer='adam',\n",
        "              loss='sparse_categorical_crossentropy',\n",
        "              metrics=['accuracy']) #desempeño del modelo\n",
        "\n",
        "#Entrenar el modelo\n",
        "model.fit(X_train,y_train, epochs=5)\n",
        "\n",
        "#Evaluar el modelo\n",
        "test_loss,test_acc = model.evaluate(X_test, y_test,verbose=2)\n",
        "print('\\n Test accuracy:', test_acc)"
      ],
      "metadata": {
        "colab": {
          "base_uri": "https://localhost:8080/"
        },
        "id": "k9yQ58xyhbmg",
        "outputId": "c88b2a98-2c65-41fc-ea06-3ec0d2d19a2c"
      },
      "execution_count": null,
      "outputs": [
        {
          "output_type": "stream",
          "name": "stdout",
          "text": [
            "Epoch 1/5\n",
            "1875/1875 [==============================] - 5s 2ms/step - loss: 0.2597 - accuracy: 0.9257\n",
            "Epoch 2/5\n",
            "1875/1875 [==============================] - 4s 2ms/step - loss: 0.1144 - accuracy: 0.9661\n",
            "Epoch 3/5\n",
            "1875/1875 [==============================] - 4s 2ms/step - loss: 0.0778 - accuracy: 0.9765\n",
            "Epoch 4/5\n",
            "1875/1875 [==============================] - 5s 2ms/step - loss: 0.0580 - accuracy: 0.9822\n",
            "Epoch 5/5\n",
            "1875/1875 [==============================] - 4s 2ms/step - loss: 0.0447 - accuracy: 0.9860\n",
            "313/313 - 1s - loss: 0.0774 - accuracy: 0.9775 - 579ms/epoch - 2ms/step\n",
            "\n",
            " Test accuracy: 0.9775000214576721\n"
          ]
        }
      ]
    }
  ]
}